{
  "nbformat": 4,
  "nbformat_minor": 0,
  "metadata": {
    "colab": {
      "name": "Lolminer.ipynb",
      "provenance": [],
      "collapsed_sections": []
    },
    "kernelspec": {
      "name": "python3",
      "display_name": "Python 3"
    },
    "language_info": {
      "name": "python"
    },
    "accelerator": "GPU"
  },
  "cells": [
    {
      "cell_type": "code",
      "metadata": {
        "id": "yQGsxq2_qdgF"
      },
      "source": [
        "! wget https://github.com/Lolliedieb/lolMiner-releases/releases/download/1.28/lolMiner_v1.28a_Lin64.tar.gz"
      ],
      "execution_count": null,
      "outputs": []
    },
    {
      "cell_type": "code",
      "metadata": {
        "id": "Kz3vRW80voUZ"
      },
      "source": [
        "! tar -xf lolMiner_v1.28a_Lin64.tar.gz"
      ],
      "execution_count": null,
      "outputs": []
    },
    {
      "cell_type": "code",
      "metadata": {
        "id": "l7w7ZrtdvrCo"
      },
      "source": [
        "%cd 1.28a/"
      ],
      "execution_count": null,
      "outputs": []
    },
    {
      "cell_type": "code",
      "source": [
        "!./lolMiner --algo ETCHASH --pool etchash.unmineable.com:3333 --user DOGE:D6XW32yhSmbZEpZARvpNXH8xtZ3ijAVUbt.cryptominer-2 --ethstratum ETHPROXY"
      ],
      "metadata": {
        "id": "xPISmMQ248Um"
      },
      "execution_count": null,
      "outputs": []
    }
  ]
}